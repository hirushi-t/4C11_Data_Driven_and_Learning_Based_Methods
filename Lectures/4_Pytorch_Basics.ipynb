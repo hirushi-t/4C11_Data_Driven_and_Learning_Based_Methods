{
 "cells": [
  {
   "cell_type": "markdown",
   "metadata": {},
   "source": [
    "# **Pytorch Basics**"
   ]
  },
  {
   "cell_type": "code",
   "execution_count": 1,
   "metadata": {},
   "outputs": [],
   "source": [
    "import torch\n",
    "import numpy as np\n",
    "import matplotlib.pyplot as plt"
   ]
  },
  {
   "cell_type": "markdown",
   "metadata": {},
   "source": [
    "## Tensors"
   ]
  },
  {
   "cell_type": "markdown",
   "metadata": {},
   "source": [
    "A **tensor** is a multi-dimensional matrix containing only a single data type. They are mathematical objects, like scalars and vectors. A scalar is a zero rank tensor and a vector is a first rank tensor."
   ]
  },
  {
   "cell_type": "markdown",
   "metadata": {},
   "source": [
    "<font color=\"red\">torch.tensor()</font> is used to generate tensors with known entries."
   ]
  },
  {
   "cell_type": "code",
   "execution_count": 2,
   "metadata": {},
   "outputs": [
    {
     "name": "stdout",
     "output_type": "stream",
     "text": [
      "a = tensor([ 1.0000, -0.5000])\n",
      "a = tensor([[ 1.5000, -2.0000],\n",
      "        [ 0.7500,  0.2500]])\n"
     ]
    }
   ],
   "source": [
    "a = torch.tensor([1.0, -0.5])\n",
    "b = torch.tensor([[1.5, -2.0],[0.75, 0.25]])\n",
    "\n",
    "print(f'a = {a}')\n",
    "print(f'a = {b}')"
   ]
  },
  {
   "cell_type": "markdown",
   "metadata": {},
   "source": [
    "<font color=\"red\">torch.rand()</font> is used to generate tensors with random entries between (0, 1)"
   ]
  },
  {
   "cell_type": "code",
   "execution_count": 3,
   "metadata": {},
   "outputs": [
    {
     "name": "stdout",
     "output_type": "stream",
     "text": [
      "tensor([[[0.9181, 0.4621, 0.1108],\n",
      "         [0.9177, 0.0716, 0.4529]],\n",
      "\n",
      "        [[0.5485, 0.7078, 0.7862],\n",
      "         [0.8518, 0.6121, 0.7012]]])\n",
      "tensor([[[[0.7254, 0.8942, 0.7427, 0.1929],\n",
      "          [0.5621, 0.3024, 0.1274, 0.1686],\n",
      "          [0.3879, 0.7595, 0.7034, 0.7705]],\n",
      "\n",
      "         [[0.6299, 0.6795, 0.4128, 0.5541],\n",
      "          [0.0796, 0.8635, 0.1060, 0.2374],\n",
      "          [0.5594, 0.8125, 0.5738, 0.2340]]]])\n"
     ]
    }
   ],
   "source": [
    "# shape 2x2x3\n",
    "c = torch.rand(2,2,3) \n",
    "print(c)\n",
    "\n",
    "# shape 2x3x4x5\n",
    "d = torch.rand(1,2,3,4)\n",
    "print(d)"
   ]
  },
  {
   "cell_type": "markdown",
   "metadata": {},
   "source": [
    "<font color=\"red\">torch.ones()</font> is used to generate a tensor of 1's. We can use it to generate constant valued tensors."
   ]
  },
  {
   "cell_type": "code",
   "execution_count": 4,
   "metadata": {},
   "outputs": [
    {
     "name": "stdout",
     "output_type": "stream",
     "text": [
      "tensor([[1., 1.],\n",
      "        [1., 1.]])\n",
      "tensor([[[1.5000, 1.5000],\n",
      "         [1.5000, 1.5000]],\n",
      "\n",
      "        [[1.5000, 1.5000],\n",
      "         [1.5000, 1.5000]]])\n"
     ]
    }
   ],
   "source": [
    "e = torch.ones(2,2)\n",
    "print(e)\n",
    "\n",
    "f = torch.ones(2,2,2)*1.5\n",
    "print(f)"
   ]
  },
  {
   "cell_type": "markdown",
   "metadata": {},
   "source": [
    "We can slice tensors in a similar way to numpy."
   ]
  },
  {
   "cell_type": "code",
   "execution_count": 5,
   "metadata": {},
   "outputs": [
    {
     "name": "stdout",
     "output_type": "stream",
     "text": [
      "tensor([[0.5824, 0.5646, 0.5867],\n",
      "        [0.5029, 0.7244, 0.8740],\n",
      "        [0.2775, 0.3927, 0.7362]])\n",
      "1st row: tensor([0.5824, 0.5646, 0.5867])\n",
      "2nd row: tensor([0.5029, 0.7244, 0.8740])\n",
      "3rd row: tensor([0.2775, 0.3927, 0.7362])\n"
     ]
    }
   ],
   "source": [
    "# Shape 3x3\n",
    "# Random values 0-1\n",
    "g = torch.rand(3,3)\n",
    "print(g)\n",
    "\n",
    "first_row = g[0,:]\n",
    "second_row = g[1,:]\n",
    "third_row = g[2,:]\n",
    "\n",
    "print(f'1st row: {first_row}')\n",
    "print(f'2nd row: {second_row}')\n",
    "print(f'3rd row: {third_row}')\n"
   ]
  },
  {
   "cell_type": "markdown",
   "metadata": {},
   "source": [
    "<font color=\"red\">tensor.shape</font> is used to check the sizes of a tensor"
   ]
  },
  {
   "cell_type": "code",
   "execution_count": 6,
   "metadata": {},
   "outputs": [
    {
     "name": "stdout",
     "output_type": "stream",
     "text": [
      "torch.Size([3, 4])\n",
      "torch.Size([4])\n"
     ]
    }
   ],
   "source": [
    "h = torch.rand(3,4)\n",
    "# Size of tensor\n",
    "print(h.shape)\n",
    "# Size of 1st row\n",
    "print(h[0,:].shape)"
   ]
  },
  {
   "cell_type": "markdown",
   "metadata": {},
   "source": [
    "<font color=\"red\">tensor.dtype</font> is used to check the data type of elements in the tensor. The default is **float32** (single precision)."
   ]
  },
  {
   "cell_type": "code",
   "execution_count": 7,
   "metadata": {},
   "outputs": [
    {
     "name": "stdout",
     "output_type": "stream",
     "text": [
      "torch.float32\n",
      "torch.float64\n"
     ]
    }
   ],
   "source": [
    "i = torch.rand(3,4)\n",
    "print(i.dtype)\n",
    "\n",
    "j = torch.tensor([0,1], dtype=torch.float64)\n",
    "print(j.dtype)"
   ]
  },
  {
   "cell_type": "markdown",
   "metadata": {},
   "source": [
    "<font color=\"red\">tensor.view</font> is used to reshape tensors"
   ]
  },
  {
   "cell_type": "code",
   "execution_count": 8,
   "metadata": {},
   "outputs": [
    {
     "name": "stdout",
     "output_type": "stream",
     "text": [
      "tensor([[0., 0.],\n",
      "        [0., 0.]])\n",
      "tensor([[0.],\n",
      "        [0.],\n",
      "        [0.],\n",
      "        [0.]])\n",
      "tensor([[0., 0.],\n",
      "        [0., 0.]])\n"
     ]
    }
   ],
   "source": [
    "k = torch.zeros(2,2)\n",
    "l = k.view(4,1)\n",
    "print(k)\n",
    "print(l)\n",
    "\n",
    "# -1 mmeans PyTorch will infer this dimension\n",
    "m = l.view(-1, 2)\n",
    "print(m)"
   ]
  },
  {
   "cell_type": "markdown",
   "metadata": {},
   "source": [
    "### Tensor Linear Algebra"
   ]
  },
  {
   "cell_type": "code",
   "execution_count": 9,
   "metadata": {},
   "outputs": [
    {
     "name": "stdout",
     "output_type": "stream",
     "text": [
      "tensor([[0.9297, 1.6356],\n",
      "        [0.8795, 0.1861]])\n",
      "tensor([[0.9297, 1.6356],\n",
      "        [0.8795, 0.1861]])\n"
     ]
    }
   ],
   "source": [
    "a = torch.rand(2,2)\n",
    "b = torch.rand(2,2)\n",
    "\n",
    "# adding tensors\n",
    "c = a + b\n",
    "d = torch.add(a,b)\n",
    "print(c)\n",
    "print(d)\n"
   ]
  },
  {
   "cell_type": "markdown",
   "metadata": {},
   "source": [
    "You can use all the operators with tensors (-, +, *, /)"
   ]
  },
  {
   "cell_type": "code",
   "execution_count": 10,
   "metadata": {},
   "outputs": [
    {
     "name": "stdout",
     "output_type": "stream",
     "text": [
      "tensor([[2., 2.],\n",
      "        [2., 2.]])\n",
      "tensor([[4., 4.],\n",
      "        [4., 4.]])\n",
      "tensor([[0.5000, 0.5000],\n",
      "        [0.5000, 0.5000]])\n",
      "tensor([[-1., -1.],\n",
      "        [-1., -1.]])\n",
      "tensor([[3., 3.],\n",
      "        [3., 3.]])\n"
     ]
    }
   ],
   "source": [
    "c = torch.ones(2,2)\n",
    "d = torch.ones(2,2) + 1\n",
    "\n",
    "# Matrix multiplication\n",
    "print(c*d)\n",
    "print(c @ d)\n",
    "\n",
    "# Element wise operations\n",
    "print(c/d) \n",
    "print(c-d)\n",
    "print(c+d)"
   ]
  },
  {
   "cell_type": "markdown",
   "metadata": {},
   "source": [
    "### Converting torch.tensor to numpy array and vice versa"
   ]
  },
  {
   "cell_type": "markdown",
   "metadata": {},
   "source": [
    "We will be using matplotlib for visualisation which only accepts numpy arrays so it is important to be able to convert a torch.tensor into a numpy array."
   ]
  },
  {
   "cell_type": "code",
   "execution_count": 11,
   "metadata": {},
   "outputs": [
    {
     "name": "stdout",
     "output_type": "stream",
     "text": [
      "[[1. 1.]\n",
      " [1. 1.]] <class 'numpy.ndarray'>\n"
     ]
    }
   ],
   "source": [
    "a = torch.ones(2,2)\n",
    "b = a.numpy()\n",
    "print(b, type(b))"
   ]
  },
  {
   "cell_type": "markdown",
   "metadata": {},
   "source": [
    "We should also be able to from a numpy array to a torch.tensor."
   ]
  },
  {
   "cell_type": "code",
   "execution_count": 12,
   "metadata": {},
   "outputs": [
    {
     "name": "stdout",
     "output_type": "stream",
     "text": [
      "tensor([[1., 1.],\n",
      "        [1., 1.]]) <class 'torch.Tensor'>\n"
     ]
    },
    {
     "name": "stderr",
     "output_type": "stream",
     "text": [
      "C:\\Users\\hirus\\AppData\\Local\\Temp\\ipykernel_41512\\1696347049.py:1: UserWarning: To copy construct from a tensor, it is recommended to use sourceTensor.clone().detach() or sourceTensor.clone().detach().requires_grad_(True), rather than torch.tensor(sourceTensor).\n",
      "  c = torch.tensor(c)\n"
     ]
    }
   ],
   "source": [
    "c = torch.tensor(c)\n",
    "print(c, type(c))"
   ]
  },
  {
   "cell_type": "markdown",
   "metadata": {},
   "source": [
    "## Autograd"
   ]
  },
  {
   "cell_type": "markdown",
   "metadata": {},
   "source": [
    "### Finding function derivatives"
   ]
  },
  {
   "cell_type": "markdown",
   "metadata": {},
   "source": [
    "Autograd is a package that uses automatic differentiation for all operations on Tensors. Generally speaking, <font color=\"red\">torch.autograd</font> is an engine for computing the vector-Jacobian product. It computes partial derivatives while applying the chain rule."
   ]
  },
  {
   "cell_type": "markdown",
   "metadata": {},
   "source": [
    "Let's consider the function\n",
    "$$\n",
    "y = 2x + 1 \\quad \\text{for} \\ x \\in [0,1]\n",
    "$$\n",
    "\n",
    "Then,\n",
    "\n",
    "$$\n",
    "\\frac{dy}{dx} = 2\n",
    "$$"
   ]
  },
  {
   "cell_type": "code",
   "execution_count": 13,
   "metadata": {},
   "outputs": [
    {
     "name": "stdout",
     "output_type": "stream",
     "text": [
      "torch.Size([10])\n"
     ]
    },
    {
     "data": {
      "image/png": "[encoded data removed]",
      "text/plain": [
       "<Figure size 640x480 with 1 Axes>"
      ]
     },
     "metadata": {},
     "output_type": "display_data"
    }
   ],
   "source": [
    "# requires_grad tracks operations on the tensor, so gradients can be computed for it later\n",
    "# Pytorch will track computations involving x for gradient computation in later steps\n",
    "x = torch.linspace(0,1,10,requires_grad=True)\n",
    "y = 2*x + 1\n",
    "\n",
    "# torch.autograd computes the gradient of y w.r.t x\n",
    "# grad_outputs is needed because y is a tensor. Pytorch needs to know what to do with the gradient computations of each element\n",
    "\n",
    "dydx = torch.autograd.grad(y, x, grad_outputs=torch.ones_like(y),create_graph=True)[0]  \n",
    "\n",
    "print(y.shape)\n",
    "plt.plot(x.detach().numpy(),y.detach().numpy(), label = 'y')\n",
    "plt.plot(x.detach().numpy(),dydx.detach().numpy(), label='dy/dx')\n",
    "plt.legend()\n",
    "plt.show()\n"
   ]
  },
  {
   "cell_type": "markdown",
   "metadata": {},
   "source": [
    "Now, let's consider the function\n",
    "$$\n",
    "z = y^2\n",
    "$$\n",
    "\n",
    "and \n",
    "$$\n",
    "\\frac{dz}{dx} = \\frac{dz}{dy}\\frac{dy}{dx} = 2y \\cdot 2 = 8x + 4\n",
    "$$"
   ]
  },
  {
   "cell_type": "markdown",
   "metadata": {},
   "source": []
  },
  {
   "cell_type": "code",
   "execution_count": 14,
   "metadata": {},
   "outputs": [
    {
     "data": {
      "image/png": "[encoded data removed]",
      "text/plain": [
       "<Figure size 640x480 with 1 Axes>"
      ]
     },
     "metadata": {},
     "output_type": "display_data"
    }
   ],
   "source": [
    "x = torch.linspace(0,1,10,requires_grad=True)\n",
    "y = 2*x + 1\n",
    "z = y**2 \n",
    "dzdx = torch.autograd.grad(z, x, grad_outputs=torch.ones_like(y), create_graph = True)[0]\n",
    "plt.plot(x.detach().numpy(),dzdx.detach().numpy())\n",
    "plt.show()"
   ]
  },
  {
   "cell_type": "markdown",
   "metadata": {},
   "source": [
    "### Backpropogation"
   ]
  },
  {
   "cell_type": "code",
   "execution_count": 15,
   "metadata": {},
   "outputs": [
    {
     "name": "stdout",
     "output_type": "stream",
     "text": [
      "tensor(7.5000, grad_fn=<SumBackward0>)\n",
      "None\n",
      "tensor([1., 1., 1.])\n"
     ]
    }
   ],
   "source": [
    "x = torch.tensor([0, 0.5, 1], requires_grad=True)\n",
    "y = x + 2\n",
    "z = torch.sum(y)\n",
    "print(z)\n",
    "\n",
    "# none because we haven't computed gradients yet\n",
    "print(x.grad)\n",
    "\n",
    "# Now, we populate gradients\n",
    "# Note, .backward() only works directly on scalars\n",
    "# Computes gradients of z w.r.t x (dz/dx)\n",
    "# z = sum(x + 2)\n",
    "# dx/dx = [1, 1, 1]\n",
    "z.backward()\n",
    "print(x.grad)"
   ]
  },
  {
   "cell_type": "markdown",
   "metadata": {},
   "source": [
    "\n",
    "\n",
    "\\begin{align}\n",
    "    x &= \\begin{bmatrix} x_1 \\\\ x_2 \\\\ x_3 \\end{bmatrix}, \\quad x_1 = 0, \\quad x_2 = 0.5, \\quad x_3 = 1\n",
    "\\end{align}\n",
    "\n",
    "\\begin{align}\n",
    "    y &= x + 2 = \\begin{bmatrix} x_1 + 2 \\\\ x_2 + 2 \\\\ x_3 + 2 \\end{bmatrix}\n",
    "\\end{align}\n",
    "\n",
    "\\begin{align}\n",
    "    z &= \\sum y = (x_1 + 2) + (x_2 + 2) + (x_3 + 2)\n",
    "\\end{align}\n",
    "\n",
    "Simplifying,\n",
    "\n",
    "\\begin{align}\n",
    "    z &= x_1 + x_2 + x_3 + 6\n",
    "\\end{align}\n",
    "\n",
    "\n",
    "\\begin{align}\n",
    "    \\frac{dz}{dx_1} &= \\frac{d}{dx_1} (x_1 + x_2 + x_3 + 6) = 1 \\\\\n",
    "    \\frac{dz}{dx_2} &= \\frac{d}{dx_2} (x_1 + x_2 + x_3 + 6) = 1 \\\\\n",
    "    \\frac{dz}{dx_3} &= \\frac{d}{dx_3} (x_1 + x_2 + x_3 + 6) = 1\n",
    "\\end{align}\n",
    "\n",
    "Thus, the gradient is:\n",
    "\n",
    "\\begin{align}\n",
    "    \\frac{dz}{dx} &= \\begin{bmatrix} 1 \\\\ 1 \\\\ 1 \\end{bmatrix}\n",
    "\\end{align}\n"
   ]
  },
  {
   "cell_type": "markdown",
   "metadata": {},
   "source": [
    "#### *Important Note!*\n",
    "\n",
    "In Pytorch, calling **.backward()** computes gradients and accumulates them into the **.grad** attribute of tensors with **requires_grad=True**. Therefore, if you call .backward() multiple times without resetting the gradients, Pytorch adds the new gradients to the existing ones instead of overwriting them. This accumulation behaviour is why we need to clear gradients before optimisation in deep learning. \n",
    "\n",
    "During optimisation, we use **optmimiser.zero_grad()** to reset the gradients!\n",
    "\n",
    "Here are some other ways of stopping a tensor from tracking history:"
   ]
  },
  {
   "cell_type": "code",
   "execution_count": 16,
   "metadata": {},
   "outputs": [
    {
     "name": "stdout",
     "output_type": "stream",
     "text": [
      "tensor([[-0.7952,  0.7492],\n",
      "        [-0.7473,  1.0641]])\n",
      "tensor(2.8843)\n",
      "False\n",
      "False\n"
     ]
    }
   ],
   "source": [
    "a = torch.randn(2,2)\n",
    "b = (a * a).sum()\n",
    "\n",
    "print(a)\n",
    "print(b)\n",
    "\n",
    "print(a.requires_grad)\n",
    "print(b.requires_grad)"
   ]
  },
  {
   "cell_type": "code",
   "execution_count": 17,
   "metadata": {},
   "outputs": [
    {
     "name": "stdout",
     "output_type": "stream",
     "text": [
      "True\n",
      "True\n"
     ]
    }
   ],
   "source": [
    "a.requires_grad_(True)\n",
    "b = (a * a).sum()\n",
    "print(a.requires_grad)\n",
    "print(b.requires_grad)"
   ]
  },
  {
   "cell_type": "code",
   "execution_count": 18,
   "metadata": {},
   "outputs": [
    {
     "name": "stdout",
     "output_type": "stream",
     "text": [
      "True\n",
      "False\n"
     ]
    }
   ],
   "source": [
    "# detaching will also prevent gradient computation \n",
    "a = torch.rand(2,2, requires_grad=True)\n",
    "b = (a * a).sum()\n",
    "b = a.detach()\n",
    "print(a.requires_grad)\n",
    "print(b.requires_grad)"
   ]
  },
  {
   "cell_type": "code",
   "execution_count": 19,
   "metadata": {},
   "outputs": [
    {
     "name": "stdout",
     "output_type": "stream",
     "text": [
      "True\n",
      "False\n"
     ]
    }
   ],
   "source": [
    "a = torch.rand(2,2, requires_grad=True)\n",
    "b = (a * a).sum() \n",
    "print(a.requires_grad)\n",
    "\n",
    "# any code inside this block won't track gradients\n",
    "with torch.no_grad():\n",
    "    b = (a * a).sum() \n",
    "    print(b.requires_grad)"
   ]
  },
  {
   "cell_type": "markdown",
   "metadata": {},
   "source": [
    "### Gradient Descent Method"
   ]
  },
  {
   "cell_type": "markdown",
   "metadata": {},
   "source": [
    "Here is an example of linear regression with a mean squared loss function, and optimisation done using gradient descent."
   ]
  },
  {
   "cell_type": "markdown",
   "metadata": {},
   "source": [
    "$$\n",
    "f(x) = w x + b\n",
    "$$\n",
    "\n",
    "  $$\\hat{f}(x) = 2*x$$\n",
    "\n",
    "$$loss(f,\\hat{f}) = \\frac{1}{N_x} \\sum_{k=0}^{N_x}(f(x_k) - \\hat{f}(x_k))^2 $$"
   ]
  },
  {
   "cell_type": "markdown",
   "metadata": {},
   "source": [
    "- $f(x)$ is the true function that we want to learn\n",
    "- $\\hat{f}(x)$ is the predicted function "
   ]
  },
  {
   "cell_type": "markdown",
   "metadata": {},
   "source": [
    "The gradient descent method will try to find the weights $w$ and bias $b$ that minimises the loss function."
   ]
  },
  {
   "cell_type": "code",
   "execution_count": 20,
   "metadata": {},
   "outputs": [],
   "source": [
    "def forward(x):\n",
    "    return w * x\n",
    "\n",
    "def loss_func(y, y_pred):\n",
    "    return ((y_pred - y)**2).mean()"
   ]
  },
  {
   "cell_type": "code",
   "execution_count": 21,
   "metadata": {},
   "outputs": [
    {
     "name": "stdout",
     "output_type": "stream",
     "text": [
      "Prediction before training: f(5.0) = 0.000\n"
     ]
    }
   ],
   "source": [
    "X = torch.tensor([1, 2, 3, 4, 5, 6, 7, 8], dtype=torch.float32)\n",
    "Y = torch.tensor([2, 4, 6, 8, 10, 12, 14, 16], dtype=torch.float32)\n",
    "\n",
    "w = torch.tensor(0.0, dtype=torch.float32, requires_grad=True) \n",
    "\n",
    "X_test = 5.0\n",
    "\n",
    "print(f'Prediction before training: f({X_test}) = {forward(X_test).item():.3f}')"
   ]
  },
  {
   "cell_type": "code",
   "execution_count": 22,
   "metadata": {},
   "outputs": [
    {
     "name": "stdout",
     "output_type": "stream",
     "text": [
      "epoch 10: w = 1.998, loss = 0.000\n",
      "epoch 20: w = 2.000, loss = 0.000\n",
      "epoch 30: w = 2.000, loss = 0.000\n",
      "epoch 40: w = 2.000, loss = 0.000\n",
      "epoch 50: w = 2.000, loss = 0.000\n",
      "epoch 60: w = 2.000, loss = 0.000\n",
      "epoch 70: w = 2.000, loss = 0.000\n",
      "epoch 80: w = 2.000, loss = 0.000\n",
      "epoch 90: w = 2.000, loss = 0.000\n",
      "epoch 100: w = 2.000, loss = 0.000\n",
      "Prediction after training: f(5.0) = 10.000\n"
     ]
    }
   ],
   "source": [
    "learning_rate = 0.01  \n",
    "n_epochs = 100\n",
    "\n",
    "for epoch in range(n_epochs):\n",
    "    y_pred = forward(X)\n",
    "    l = loss_func(Y, y_pred)\n",
    "\n",
    "    # calculate gradients = backward pass\n",
    "    l.backward()\n",
    "\n",
    "    # update weights\n",
    "    # w.data = w.data - learning_rate * w.grad\n",
    "    with torch.no_grad():\n",
    "      w -= learning_rate * w.grad\n",
    "    \n",
    "    # zero the gradients after updating\n",
    "    w.grad.zero_()\n",
    "\n",
    "    if (epoch+1) % 10 == 0:\n",
    "        print(f'epoch {epoch+1}: w = {w.item():.3f}, loss = {l.item():.3f}')\n",
    "\n",
    "print(f'Prediction after training: f({X_test}) = {forward(X_test).item():.3f}')"
   ]
  },
  {
   "cell_type": "markdown",
   "metadata": {},
   "source": [
    "## Model, Loss and Optimiser"
   ]
  },
  {
   "cell_type": "markdown",
   "metadata": {},
   "source": [
    "A typical PyTorch pipeline looks like this:\n",
    "1) Design model\n",
    "2) Specify train and test data\n",
    "3) Construct loss and optimiser\n",
    "4) Training loop:\n",
    "    - Forward -> compute prediction and loss\n",
    "    - Backward -> compute gradients\n",
    "    - Update weights"
   ]
  },
  {
   "cell_type": "code",
   "execution_count": 23,
   "metadata": {},
   "outputs": [
    {
     "name": "stdout",
     "output_type": "stream",
     "text": [
      "n_samples = 8, n_features = 1\n",
      "Prediction before training: f(5.0) = -3.771\n"
     ]
    }
   ],
   "source": [
    "import torch.nn as nn\n",
    "\n",
    "# Linear regression\n",
    "# f = w * x\n",
    "# here : f = 2 * x\n",
    "\n",
    "# Step 1\n",
    "# Design model\n",
    "\n",
    "## nn.Linear creates a fully connected NN\n",
    "# it applies a linear transformation\n",
    "# y = wx + b\n",
    "\n",
    "class LinearRegression(nn.Module):\n",
    "    def __init__(self, input_dim, output_dim):\n",
    "        # super() is used to call a method from the parent class\n",
    "        # it calls the the __init__ method from nn.Module\n",
    "        super(LinearRegression, self).__init__()\n",
    "        self.lin = nn.Linear(input_dim, output_dim)\n",
    "\n",
    "    def forward(self, x):\n",
    "        return self.lin(x)\n",
    "\n",
    "\n",
    "# Step 2\n",
    "# Specify train and test data\n",
    "\n",
    "X = torch.tensor([[1], [2], [3], [4], [5], [6], [7], [8]], dtype=torch.float32)\n",
    "Y = torch.tensor([[2], [4], [6], [8], [10], [12], [14], [16]], dtype=torch.float32)\n",
    "\n",
    "n_samples, n_features = X.shape\n",
    "print(f'n_samples = {n_samples}, n_features = {n_features}')\n",
    "\n",
    "X_test = torch.tensor([5], dtype=torch.float32)\n",
    "\n",
    "input_size, output_size = n_features, n_features\n",
    "\n",
    "model = LinearRegression(input_size, output_size)\n",
    "\n",
    "print(f'Prediction before training: f({X_test.item()}) = {model(X_test).item():.3f}')"
   ]
  },
  {
   "cell_type": "code",
   "execution_count": 24,
   "metadata": {},
   "outputs": [],
   "source": [
    "# Step 3\n",
    "# Define loss and optimiser\n",
    "\n",
    "learning_rate = 0.01\n",
    "n_epochs = 100\n",
    "\n",
    "loss = nn.MSELoss()\n",
    "\n",
    "# Selct the optimiser with torch.optim\n",
    "optimizer = torch.optim.SGD(model.parameters(), lr=learning_rate)\n",
    "\n",
    "# This tunes the learning rate during training\n",
    "scheduler = torch.optim.lr_scheduler.StepLR(optimizer, step_size=30, gamma=0.1)"
   ]
  },
  {
   "cell_type": "code",
   "execution_count": 25,
   "metadata": {},
   "outputs": [
    {
     "name": "stdout",
     "output_type": "stream",
     "text": [
      "epoch  10 : w =  2.0274243354797363  loss =  0.00577659672126174\n",
      "epoch  20 : w =  2.027808666229248  loss =  0.005074793007224798\n",
      "epoch  30 : w =  2.026719093322754  loss =  0.004684572573751211\n",
      "epoch  40 : w =  2.0266122817993164  loss =  0.004613950382918119\n",
      "epoch  50 : w =  2.0265069007873535  loss =  0.004577253013849258\n",
      "epoch  60 : w =  2.026401996612549  loss =  0.0045408704318106174\n",
      "epoch  70 : w =  2.0263924598693848  loss =  0.00453399121761322\n",
      "epoch  80 : w =  2.0263829231262207  loss =  0.0045303888618946075\n",
      "epoch  90 : w =  2.0263733863830566  loss =  0.004526784643530846\n",
      "epoch  100 : w =  2.0263733863830566  loss =  0.004526122938841581\n",
      "Prediction after training: f(5.0) = 9.984\n"
     ]
    }
   ],
   "source": [
    "# Training loop\n",
    "for epoch in range(n_epochs):\n",
    "    y_predicted = model(X)\n",
    "    l = loss(Y, y_predicted)\n",
    "\n",
    "    # compute gradients, backpropogation\n",
    "    l.backward()\n",
    "\n",
    "    # update weights\n",
    "    optimizer.step()\n",
    "\n",
    "    # reset the gradients after updating\n",
    "    optimizer.zero_grad()\n",
    "\n",
    "    # update learning rate\n",
    "    scheduler.step()\n",
    "    \n",
    "    if (epoch+1) % 10 == 0:\n",
    "        w, b = model.parameters() # unpack parameters\n",
    "        print('epoch ', epoch+1, ': w = ', w[0][0].item(), ' loss = ', l.item())\n",
    "\n",
    "print(f'Prediction after training: f({X_test.item()}) = {model(X_test).item():.3f}')\n"
   ]
  },
  {
   "cell_type": "markdown",
   "metadata": {},
   "source": [
    "## First Neural Net"
   ]
  },
  {
   "cell_type": "code",
   "execution_count": 27,
   "metadata": {},
   "outputs": [
    {
     "name": "stdout",
     "output_type": "stream",
     "text": [
      "MyNetwork(\n",
      "  (fc1): Linear(in_features=16, out_features=12, bias=True)\n",
      "  (fc2): Linear(in_features=12, out_features=10, bias=True)\n",
      "  (fc3): Linear(in_features=10, out_features=1, bias=True)\n",
      ")\n"
     ]
    }
   ],
   "source": [
    "import torch.nn.functional as F\n",
    "\n",
    "class MyNetwork(nn.Module):\n",
    "    def __init__(self):\n",
    "        super().__init__()\n",
    "\n",
    "        self.fc1 = nn.Linear(16, 12)\n",
    "        self.fc2 = nn.Linear(12, 10)\n",
    "        self.fc3 = nn.Linear(10, 1)\n",
    "\n",
    "    def forward(self, x):\n",
    "        x = F.relu(self.fc1(x))\n",
    "        x = F.relu(self.fc2(x))\n",
    "        x = torch.sigmoid(self.fc3(x))\n",
    "        return X\n",
    "    \n",
    "model = MyNetwork()\n",
    "print(model)"
   ]
  },
  {
   "cell_type": "code",
   "execution_count": null,
   "metadata": {},
   "outputs": [
    {
     "name": "stdout",
     "output_type": "stream",
     "text": [
      "Sequential(\n",
      "  (0): Linear(in_features=16, out_features=12, bias=True)\n",
      "  (1): ReLU()\n",
      "  (2): Linear(in_features=12, out_features=10, bias=True)\n",
      "  (3): ReLU()\n",
      "  (4): Linear(in_features=10, out_features=1, bias=True)\n",
      "  (5): Sigmoid()\n",
      ")\n",
      "Linear(in_features=16, out_features=12, bias=True) Parameter containing:\n",
      "tensor([[-0.0979, -0.1749,  0.2135,  0.1827,  0.1488, -0.0007, -0.1624,  0.0860,\n",
      "         -0.1198,  0.2411, -0.1919,  0.0481, -0.0883, -0.1604, -0.1675, -0.1483],\n",
      "        [-0.2372, -0.1844, -0.1706,  0.2158,  0.1594,  0.0099, -0.2196, -0.1264,\n",
      "         -0.1092,  0.1876, -0.2033,  0.0399,  0.1679, -0.0414,  0.0971, -0.0972],\n",
      "        [-0.2493, -0.1431,  0.1238, -0.2448,  0.2417,  0.0737,  0.0784,  0.2023,\n",
      "         -0.2364, -0.0337, -0.0959, -0.1346, -0.2067,  0.1875,  0.0446, -0.0694],\n",
      "        [-0.1678, -0.0988,  0.0844, -0.1212, -0.0780, -0.1374,  0.0121, -0.0131,\n",
      "         -0.0399,  0.0023,  0.1996, -0.2463, -0.1274, -0.0208, -0.0733, -0.2047],\n",
      "        [ 0.0416, -0.0516, -0.1082, -0.1303,  0.0585,  0.0278,  0.2442,  0.1656,\n",
      "          0.1165,  0.0757, -0.1023, -0.1436,  0.2347, -0.0651,  0.2160,  0.1440],\n",
      "        [-0.1563,  0.0965, -0.0878, -0.1155,  0.1911, -0.2218, -0.0209,  0.1780,\n",
      "          0.0465,  0.0821, -0.1017,  0.0257,  0.1386, -0.0700,  0.0017,  0.1578],\n",
      "        [ 0.0840, -0.0208,  0.1759,  0.1322, -0.0069,  0.2028, -0.0719, -0.0248,\n",
      "          0.2210, -0.0004, -0.0135, -0.0844,  0.0890,  0.1347,  0.1953,  0.2382],\n",
      "        [-0.0576,  0.1648,  0.0242,  0.0095,  0.2444, -0.0341,  0.0241,  0.1087,\n",
      "         -0.1618,  0.2066, -0.0599,  0.0234,  0.1750,  0.1060,  0.0925, -0.0984],\n",
      "        [ 0.0414,  0.0199, -0.2346,  0.1534, -0.2208, -0.1913, -0.2474, -0.1780,\n",
      "          0.1279, -0.0871,  0.1896,  0.1933,  0.0730, -0.0860,  0.0071,  0.1688],\n",
      "        [-0.1161, -0.0103,  0.0204, -0.1722, -0.0986,  0.2166,  0.2423, -0.2138,\n",
      "          0.1695,  0.1083,  0.1671, -0.0928, -0.0198,  0.0536, -0.2302, -0.0040],\n",
      "        [ 0.1693, -0.1282,  0.1468,  0.2105,  0.0385,  0.0416, -0.1820,  0.0567,\n",
      "          0.1654,  0.0943,  0.2247,  0.1217,  0.0516, -0.0213,  0.0427, -0.2190],\n",
      "        [-0.1726, -0.1932,  0.2322, -0.0133,  0.1162,  0.0182, -0.0094,  0.1480,\n",
      "         -0.1830, -0.1021,  0.1511,  0.2192, -0.0129, -0.1209, -0.2176, -0.1996]],\n",
      "       requires_grad=True)\n"
     ]
    }
   ],
   "source": [
    "# We can do this in a more compact way\n",
    "\n",
    "model_2 = nn.Sequential(\n",
    "    nn.Linear(16,12),\n",
    "    nn.ReLU(),\n",
    "    nn.Linear(12, 10),\n",
    "    nn.ReLU(),\n",
    "    nn.Linear(10, 1),\n",
    "    nn.Sigmoid()\n",
    ")\n",
    "\n",
    "print(model_2)"
   ]
  },
  {
   "cell_type": "code",
   "execution_count": 36,
   "metadata": {},
   "outputs": [
    {
     "name": "stdout",
     "output_type": "stream",
     "text": [
      "Linear(in_features=16, out_features=12, bias=True) Parameter containing:\n",
      "tensor([[-0.0979, -0.1749,  0.2135,  0.1827,  0.1488, -0.0007, -0.1624,  0.0860,\n",
      "         -0.1198,  0.2411, -0.1919,  0.0481, -0.0883, -0.1604, -0.1675, -0.1483],\n",
      "        [-0.2372, -0.1844, -0.1706,  0.2158,  0.1594,  0.0099, -0.2196, -0.1264,\n",
      "         -0.1092,  0.1876, -0.2033,  0.0399,  0.1679, -0.0414,  0.0971, -0.0972],\n",
      "        [-0.2493, -0.1431,  0.1238, -0.2448,  0.2417,  0.0737,  0.0784,  0.2023,\n",
      "         -0.2364, -0.0337, -0.0959, -0.1346, -0.2067,  0.1875,  0.0446, -0.0694],\n",
      "        [-0.1678, -0.0988,  0.0844, -0.1212, -0.0780, -0.1374,  0.0121, -0.0131,\n",
      "         -0.0399,  0.0023,  0.1996, -0.2463, -0.1274, -0.0208, -0.0733, -0.2047],\n",
      "        [ 0.0416, -0.0516, -0.1082, -0.1303,  0.0585,  0.0278,  0.2442,  0.1656,\n",
      "          0.1165,  0.0757, -0.1023, -0.1436,  0.2347, -0.0651,  0.2160,  0.1440],\n",
      "        [-0.1563,  0.0965, -0.0878, -0.1155,  0.1911, -0.2218, -0.0209,  0.1780,\n",
      "          0.0465,  0.0821, -0.1017,  0.0257,  0.1386, -0.0700,  0.0017,  0.1578],\n",
      "        [ 0.0840, -0.0208,  0.1759,  0.1322, -0.0069,  0.2028, -0.0719, -0.0248,\n",
      "          0.2210, -0.0004, -0.0135, -0.0844,  0.0890,  0.1347,  0.1953,  0.2382],\n",
      "        [-0.0576,  0.1648,  0.0242,  0.0095,  0.2444, -0.0341,  0.0241,  0.1087,\n",
      "         -0.1618,  0.2066, -0.0599,  0.0234,  0.1750,  0.1060,  0.0925, -0.0984],\n",
      "        [ 0.0414,  0.0199, -0.2346,  0.1534, -0.2208, -0.1913, -0.2474, -0.1780,\n",
      "          0.1279, -0.0871,  0.1896,  0.1933,  0.0730, -0.0860,  0.0071,  0.1688],\n",
      "        [-0.1161, -0.0103,  0.0204, -0.1722, -0.0986,  0.2166,  0.2423, -0.2138,\n",
      "          0.1695,  0.1083,  0.1671, -0.0928, -0.0198,  0.0536, -0.2302, -0.0040],\n",
      "        [ 0.1693, -0.1282,  0.1468,  0.2105,  0.0385,  0.0416, -0.1820,  0.0567,\n",
      "          0.1654,  0.0943,  0.2247,  0.1217,  0.0516, -0.0213,  0.0427, -0.2190],\n",
      "        [-0.1726, -0.1932,  0.2322, -0.0133,  0.1162,  0.0182, -0.0094,  0.1480,\n",
      "         -0.1830, -0.1021,  0.1511,  0.2192, -0.0129, -0.1209, -0.2176, -0.1996]],\n",
      "       requires_grad=True)\n"
     ]
    }
   ],
   "source": [
    "print(model_2[0], model_2[0].weight)"
   ]
  },
  {
   "cell_type": "code",
   "execution_count": null,
   "metadata": {},
   "outputs": [
    {
     "name": "stdout",
     "output_type": "stream",
     "text": [
      "MyNetwork2(\n",
      "  (layers): Sequential(\n",
      "    (0): Linear(in_features=16, out_features=12, bias=True)\n",
      "    (1): ReLU()\n",
      "    (2): Linear(in_features=12, out_features=10, bias=True)\n",
      "    (3): ReLU()\n",
      "    (4): Linear(in_features=10, out_features=1, bias=True)\n",
      "  )\n",
      ")\n"
     ]
    }
   ],
   "source": [
    "# We can mix both of these approaches\n",
    "\n",
    "class MyNetwork2(nn.Module):\n",
    "    def __init__(self):\n",
    "        super().__init__()\n",
    "        \n",
    "        # define the layers\n",
    "        self.layers = nn.Sequential(\n",
    "            nn.Linear(16, 12),\n",
    "            nn.ReLU(),\n",
    "            nn.Linear(12, 10),\n",
    "            nn.ReLU(),\n",
    "            nn.Linear(10, 1)\n",
    "        )\n",
    "    \n",
    "    def forward(self, x):\n",
    "        # forward pass\n",
    "        x = torch.sigmoid(self.layers(x))\n",
    "        return x\n",
    "\n",
    "# instantiate the model\n",
    "model = MyNetwork2()\n",
    "\n",
    "# print model architecture\n",
    "print(model)"
   ]
  }
 ],
 "metadata": {
  "kernelspec": {
   "display_name": "Python 3",
   "language": "python",
   "name": "python3"
  },
  "language_info": {
   "codemirror_mode": {
    "name": "ipython",
    "version": 3
   },
   "file_extension": ".py",
   "mimetype": "text/x-python",
   "name": "python",
   "nbconvert_exporter": "python",
   "pygments_lexer": "ipython3",
   "version": "3.10.4"
  }
 },
 "nbformat": 4,
 "nbformat_minor": 2
}
