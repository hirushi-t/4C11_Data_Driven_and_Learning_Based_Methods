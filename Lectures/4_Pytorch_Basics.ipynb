{
 "cells": [
  {
   "cell_type": "markdown",
   "metadata": {},
   "source": [
    "# **Pytorch Basics**"
   ]
  },
  {
   "cell_type": "code",
   "execution_count": 17,
   "metadata": {},
   "outputs": [
    {
     "name": "stderr",
     "output_type": "stream",
     "text": [
      "Matplotlib is building the font cache; this may take a moment.\n"
     ]
    }
   ],
   "source": [
    "import torch\n",
    "import numpy as np\n",
    "import matplotlib.pyplot as plt"
   ]
  },
  {
   "cell_type": "markdown",
   "metadata": {},
   "source": [
    "## Tensors"
   ]
  },
  {
   "cell_type": "markdown",
   "metadata": {},
   "source": [
    "A **tensor** is a multi-dimensional matrix containing only a single data type. They are mathematical objects, like scalars and vectors. A scalar is a zero rank tensor and a vector is a first rank tensor."
   ]
  },
  {
   "cell_type": "markdown",
   "metadata": {},
   "source": [
    "<font color=\"red\">torch.tensor()</font> is used to generate tensors with known entries."
   ]
  },
  {
   "cell_type": "code",
   "execution_count": 2,
   "metadata": {},
   "outputs": [
    {
     "name": "stdout",
     "output_type": "stream",
     "text": [
      "a = tensor([ 1.0000, -0.5000])\n",
      "a = tensor([[ 1.5000, -2.0000],\n",
      "        [ 0.7500,  0.2500]])\n"
     ]
    }
   ],
   "source": [
    "a = torch.tensor([1.0, -0.5])\n",
    "b = torch.tensor([[1.5, -2.0],[0.75, 0.25]])\n",
    "\n",
    "print(f'a = {a}')\n",
    "print(f'a = {b}')"
   ]
  },
  {
   "cell_type": "markdown",
   "metadata": {},
   "source": [
    "<font color=\"red\">torch.rand()</font> is used to generate tensors with random entries between (0, 1)"
   ]
  },
  {
   "cell_type": "code",
   "execution_count": 3,
   "metadata": {},
   "outputs": [
    {
     "name": "stdout",
     "output_type": "stream",
     "text": [
      "tensor([[[0.9306, 0.3163, 0.6370],\n",
      "         [0.8832, 0.0879, 0.2401]],\n",
      "\n",
      "        [[0.6095, 0.7697, 0.8282],\n",
      "         [0.1868, 0.3241, 0.4762]]])\n",
      "tensor([[[[0.7035, 0.5728, 0.5884, 0.2785],\n",
      "          [0.8918, 0.7522, 0.3516, 0.7338],\n",
      "          [0.4661, 0.1447, 0.5064, 0.1921]],\n",
      "\n",
      "         [[0.4360, 0.5082, 0.1719, 0.1329],\n",
      "          [0.0367, 0.8826, 0.4745, 0.9065],\n",
      "          [0.2279, 0.8712, 0.9164, 0.0673]]]])\n"
     ]
    }
   ],
   "source": [
    "# shape 2x2x3\n",
    "c = torch.rand(2,2,3) \n",
    "print(c)\n",
    "\n",
    "# shape 2x3x4x5\n",
    "d = torch.rand(1,2,3,4)\n",
    "print(d)"
   ]
  },
  {
   "cell_type": "markdown",
   "metadata": {},
   "source": [
    "<font color=\"red\">torch.ones()</font> is used to generate a tensor of 1's. We can use it to generate constant valued tensors."
   ]
  },
  {
   "cell_type": "code",
   "execution_count": 4,
   "metadata": {},
   "outputs": [
    {
     "name": "stdout",
     "output_type": "stream",
     "text": [
      "tensor([[1., 1.],\n",
      "        [1., 1.]])\n",
      "tensor([[[1.5000, 1.5000],\n",
      "         [1.5000, 1.5000]],\n",
      "\n",
      "        [[1.5000, 1.5000],\n",
      "         [1.5000, 1.5000]]])\n"
     ]
    }
   ],
   "source": [
    "e = torch.ones(2,2)\n",
    "print(e)\n",
    "\n",
    "f = torch.ones(2,2,2)*1.5\n",
    "print(f)"
   ]
  },
  {
   "cell_type": "markdown",
   "metadata": {},
   "source": [
    "We can slice tensors in a similar way to numpy."
   ]
  },
  {
   "cell_type": "code",
   "execution_count": 5,
   "metadata": {},
   "outputs": [
    {
     "name": "stdout",
     "output_type": "stream",
     "text": [
      "tensor([[0.5024, 0.7674, 0.8052],\n",
      "        [0.4153, 0.2819, 0.2647],\n",
      "        [0.2301, 0.9897, 0.3077]])\n",
      "1st row: tensor([0.5024, 0.7674, 0.8052])\n",
      "2nd row: tensor([0.4153, 0.2819, 0.2647])\n",
      "3rd row: tensor([0.2301, 0.9897, 0.3077])\n"
     ]
    }
   ],
   "source": [
    "# Shape 3x3\n",
    "# Random values 0-1\n",
    "g = torch.rand(3,3)\n",
    "print(g)\n",
    "\n",
    "first_row = g[0,:]\n",
    "second_row = g[1,:]\n",
    "third_row = g[2,:]\n",
    "\n",
    "print(f'1st row: {first_row}')\n",
    "print(f'2nd row: {second_row}')\n",
    "print(f'3rd row: {third_row}')\n"
   ]
  },
  {
   "cell_type": "markdown",
   "metadata": {},
   "source": [
    "<font color=\"red\">tensor.shape</font> is used to check the sizes of a tensor"
   ]
  },
  {
   "cell_type": "code",
   "execution_count": 6,
   "metadata": {},
   "outputs": [
    {
     "name": "stdout",
     "output_type": "stream",
     "text": [
      "torch.Size([3, 4])\n",
      "torch.Size([4])\n"
     ]
    }
   ],
   "source": [
    "h = torch.rand(3,4)\n",
    "# Size of tensor\n",
    "print(h.shape)\n",
    "# Size of 1st row\n",
    "print(h[0,:].shape)"
   ]
  },
  {
   "cell_type": "markdown",
   "metadata": {},
   "source": [
    "<font color=\"red\">tensor.dtype</font> is used to check the data type of elements in the tensor. The default is **float32** (single precision)."
   ]
  },
  {
   "cell_type": "code",
   "execution_count": 7,
   "metadata": {},
   "outputs": [
    {
     "name": "stdout",
     "output_type": "stream",
     "text": [
      "torch.float32\n",
      "torch.float64\n"
     ]
    }
   ],
   "source": [
    "i = torch.rand(3,4)\n",
    "print(i.dtype)\n",
    "\n",
    "j = torch.tensor([0,1], dtype=torch.float64)\n",
    "print(j.dtype)"
   ]
  },
  {
   "cell_type": "markdown",
   "metadata": {},
   "source": [
    "<font color=\"red\">tensor.view</font> is used to reshape tensors"
   ]
  },
  {
   "cell_type": "code",
   "execution_count": 8,
   "metadata": {},
   "outputs": [
    {
     "name": "stdout",
     "output_type": "stream",
     "text": [
      "tensor([[0., 0.],\n",
      "        [0., 0.]])\n",
      "tensor([[0.],\n",
      "        [0.],\n",
      "        [0.],\n",
      "        [0.]])\n",
      "tensor([[0., 0.],\n",
      "        [0., 0.]])\n"
     ]
    }
   ],
   "source": [
    "k = torch.zeros(2,2)\n",
    "l = k.view(4,1)\n",
    "print(k)\n",
    "print(l)\n",
    "\n",
    "# -1 mmeans PyTorch will infer this dimension\n",
    "m = l.view(-1, 2)\n",
    "print(m)"
   ]
  },
  {
   "cell_type": "markdown",
   "metadata": {},
   "source": [
    "### Tensor Linear Algebra"
   ]
  },
  {
   "cell_type": "code",
   "execution_count": 9,
   "metadata": {},
   "outputs": [
    {
     "name": "stdout",
     "output_type": "stream",
     "text": [
      "tensor([[0.8543, 1.4614],\n",
      "        [1.2562, 0.9426]])\n",
      "tensor([[0.8543, 1.4614],\n",
      "        [1.2562, 0.9426]])\n"
     ]
    }
   ],
   "source": [
    "a = torch.rand(2,2)\n",
    "b = torch.rand(2,2)\n",
    "\n",
    "# adding tensors\n",
    "c = a + b\n",
    "d = torch.add(a,b)\n",
    "print(c)\n",
    "print(d)\n"
   ]
  },
  {
   "cell_type": "markdown",
   "metadata": {},
   "source": [
    "You can use all the operators with tensors (-, +, *, /)"
   ]
  },
  {
   "cell_type": "code",
   "execution_count": 10,
   "metadata": {},
   "outputs": [
    {
     "name": "stdout",
     "output_type": "stream",
     "text": [
      "tensor([[2., 2.],\n",
      "        [2., 2.]])\n",
      "tensor([[0.5000, 0.5000],\n",
      "        [0.5000, 0.5000]])\n",
      "tensor([[-1., -1.],\n",
      "        [-1., -1.]])\n",
      "tensor([[3., 3.],\n",
      "        [3., 3.]])\n"
     ]
    }
   ],
   "source": [
    "c = torch.ones(2,2)\n",
    "d = torch.ones(2,2) + 1\n",
    "\n",
    "# Matrix multiplication\n",
    "print(c*d)\n",
    "\n",
    "# Element wise operations\n",
    "print(c/d) \n",
    "print(c-d)\n",
    "print(c+d)"
   ]
  },
  {
   "cell_type": "markdown",
   "metadata": {},
   "source": [
    "### Converting torch.tensor to numpy array and vice versa"
   ]
  },
  {
   "cell_type": "markdown",
   "metadata": {},
   "source": [
    "We will be using matplotlib for visualisation which only accepts numpy arrays so it is important to be able to convert a torch.tensor into a numpy array."
   ]
  },
  {
   "cell_type": "code",
   "execution_count": 11,
   "metadata": {},
   "outputs": [
    {
     "name": "stdout",
     "output_type": "stream",
     "text": [
      "[[1. 1.]\n",
      " [1. 1.]] <class 'numpy.ndarray'>\n"
     ]
    }
   ],
   "source": [
    "a = torch.ones(2,2)\n",
    "b = a.numpy()\n",
    "print(b, type(b))"
   ]
  },
  {
   "cell_type": "markdown",
   "metadata": {},
   "source": [
    "We should also be able to from a numpy array to a torch.tensor."
   ]
  },
  {
   "cell_type": "code",
   "execution_count": 12,
   "metadata": {},
   "outputs": [
    {
     "name": "stdout",
     "output_type": "stream",
     "text": [
      "tensor([[1., 1.],\n",
      "        [1., 1.]]) <class 'torch.Tensor'>\n"
     ]
    },
    {
     "name": "stderr",
     "output_type": "stream",
     "text": [
      "C:\\Users\\hirus\\AppData\\Local\\Temp\\ipykernel_19728\\1696347049.py:1: UserWarning: To copy construct from a tensor, it is recommended to use sourceTensor.clone().detach() or sourceTensor.clone().detach().requires_grad_(True), rather than torch.tensor(sourceTensor).\n",
      "  c = torch.tensor(c)\n"
     ]
    }
   ],
   "source": [
    "c = torch.tensor(c)\n",
    "print(c, type(c))"
   ]
  },
  {
   "cell_type": "markdown",
   "metadata": {},
   "source": [
    "## Autgrad"
   ]
  },
  {
   "cell_type": "markdown",
   "metadata": {},
   "source": [
    "### Finding function derivatives"
   ]
  },
  {
   "cell_type": "markdown",
   "metadata": {},
   "source": [
    "Autograd is a package that uses automatic differentiation for all operations on Tensors. Generally speaking, <font color=\"red\">torch.autograd</font> is an engine for computing the vector-Jacobian product. It computes partial derivatives while applying the chain rule."
   ]
  },
  {
   "cell_type": "markdown",
   "metadata": {},
   "source": [
    "Let's consider the function\n",
    "$$\n",
    "y = 2x + 1 \\quad \\text{for} \\ x \\in [0,1]\n",
    "$$\n",
    "\n",
    "Then,\n",
    "\n",
    "$$\n",
    "\\frac{dy}{dx} = 2\n",
    "$$"
   ]
  },
  {
   "cell_type": "markdown",
   "metadata": {},
   "source": [
    "FROM HERE... GO OVER BELOW "
   ]
  },
  {
   "cell_type": "code",
   "execution_count": 23,
   "metadata": {},
   "outputs": [
    {
     "data": {
      "image/png": "[encoded data removed]",
      "text/plain": [
       "<Figure size 640x480 with 1 Axes>"
      ]
     },
     "metadata": {},
     "output_type": "display_data"
    },
    {
     "name": "stdout",
     "output_type": "stream",
     "text": [
      "tensor([2., 2., 2., 2., 2., 2., 2., 2., 2., 2.])\n"
     ]
    }
   ],
   "source": [
    "# requires_grad tracks operations on the tensor, so gradients can be computed for it later\n",
    "x = torch.linspace(0,1,10,requires_grad=True)\n",
    "y = 2*x + 1\n",
    "\n",
    "# grad_outputs represents the gradient of the output w.r.t to some scalar. Since y is a vector, we tell PyTorch we want to compute the gradients for each value of y independently\n",
    "dydx = torch.autograd.grad(y, x, grad_outputs=torch.ones_like(y),create_graph=True)[0]  \n",
    "plt.plot(x.detach().numpy(),y.detach().numpy())\n",
    "plt.plot(x.detach().numpy(),dydx.detach().numpy())\n",
    "plt.show()\n"
   ]
  },
  {
   "cell_type": "code",
   "execution_count": null,
   "metadata": {},
   "outputs": [],
   "source": []
  }
 ],
 "metadata": {
  "kernelspec": {
   "display_name": "Python 3",
   "language": "python",
   "name": "python3"
  },
  "language_info": {
   "codemirror_mode": {
    "name": "ipython",
    "version": 3
   },
   "file_extension": ".py",
   "mimetype": "text/x-python",
   "name": "python",
   "nbconvert_exporter": "python",
   "pygments_lexer": "ipython3",
   "version": "3.10.4"
  }
 },
 "nbformat": 4,
 "nbformat_minor": 2
}
