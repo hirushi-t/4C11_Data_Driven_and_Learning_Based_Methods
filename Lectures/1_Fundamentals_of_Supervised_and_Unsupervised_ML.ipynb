{
 "cells": [
  {
   "cell_type": "markdown",
   "metadata": {},
   "source": [
    "# Fundamentals of Supervised and Unsupervised Machine Learning"
   ]
  },
  {
   "cell_type": "markdown",
   "metadata": {},
   "source": [
    "Objectives:\n",
    "- Understand the importance of ML in mechanics and materials\n",
    "- Understand what we need to learn a model\n",
    "- Understand how to use learning curves to asses model performance"
   ]
  },
  {
   "cell_type": "markdown",
   "metadata": {},
   "source": [
    "In any ML model, it is important that we have the the **right type of data**. This means we have to ensure it is relevant and of a high-quality. We need to ensure it isn't biased in any way.\n",
    "\n",
    "The **manifold hypothesis** states that many real-world high-dimensional datasets actually lie along a low-dimensional latent manifold inside that high-dimensional space. \n",
    "\n",
    "ML algorithms can learn this low-dimensional structure of data, which is something that would be impossible for humans to do. "
   ]
  },
  {
   "cell_type": "markdown",
   "metadata": {},
   "source": [
    "# Machine Learning Algo Workflow"
   ]
  },
  {
   "cell_type": "markdown",
   "metadata": {},
   "source": [
    "1. **Gather Data**  \n",
    "   Collect data from relevant sources.\n",
    "\n",
    "2. **Data Processing & Cleaning**  \n",
    "   Preprocess the data, handle missing values, and clean it for analysis.\n",
    "\n",
    "3. **Build the Model**  \n",
    "   Choose an appropriate machine learning algorithm and train the model on the data.\n",
    "\n",
    "4. **Extract Insights**  \n",
    "   Analyse the model's results. What does it tell us about the data?\n",
    "\n",
    "5. **Data Visualization**  \n",
    "   Visualize the findings to communicate insights effectively.\n"
   ]
  },
  {
   "cell_type": "markdown",
   "metadata": {},
   "source": [
    "**Data cleaning** is the most important and longest step in this process. There are many different things we need to think about. \n",
    "- *Data standardisation* -> convert data into the same format (same units, remove punctuation etc)\n",
    "- *Removing unwanted observations* -> get rid og duplicates or redundant data. Consider what is 'valid' for your model\n",
    "- *Handling missing data* -> dealing with unknown data (e.g. NaN). You may ignore them, set them to 0 or try to predict them\n",
    "- *Structural error solving* -> errors in the setup of the data (e.d. mislabelled classes)\n",
    "- *Outliers' management* -> dealing with values that don't belong in out dataset (e.g. we might solve this by defining min and max values)"
   ]
  },
  {
   "cell_type": "markdown",
   "metadata": {},
   "source": []
  }
 ],
 "metadata": {
  "kernelspec": {
   "display_name": "Python 3",
   "language": "python",
   "name": "python3"
  },
  "language_info": {
   "name": "python",
   "version": "3.10.4"
  }
 },
 "nbformat": 4,
 "nbformat_minor": 2
}
