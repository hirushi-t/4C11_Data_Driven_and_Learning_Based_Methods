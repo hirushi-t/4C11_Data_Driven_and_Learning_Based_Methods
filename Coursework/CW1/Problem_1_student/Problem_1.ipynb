{
 "cells": [
  {
   "cell_type": "markdown",
   "metadata": {
    "vscode": {
     "languageId": "plaintext"
    }
   },
   "source": [
    "# Problem 1"
   ]
  },
  {
   "cell_type": "code",
   "execution_count": 1,
   "metadata": {},
   "outputs": [],
   "source": [
    "import matplotlib.pyplot as plt\n",
    "import torch\n",
    "import torch.nn as nn\n",
    "import torch.utils.data as Data\n",
    "import numpy as np\n",
    "import h5py"
   ]
  },
  {
   "cell_type": "markdown",
   "metadata": {},
   "source": [
    "### Obtaining Data"
   ]
  },
  {
   "cell_type": "code",
   "execution_count": 2,
   "metadata": {},
   "outputs": [],
   "source": [
    "# This reads the matlab data from the .mat file provided\n",
    "class MatRead(object):\n",
    "    def __init__(self, file_path):\n",
    "        super(MatRead).__init__()\n",
    "\n",
    "        self.file_path = file_path\n",
    "        self.data = h5py.File(self.file_path)\n",
    "\n",
    "    def get_strain(self):\n",
    "        strain = np.array(self.data['strain']).transpose(2,0,1)\n",
    "        return torch.tensor(strain, dtype=torch.float32)\n",
    "\n",
    "    def get_stress(self):\n",
    "        stress = np.array(self.data['stress']).transpose(2,0,1)\n",
    "        return torch.tensor(stress, dtype=torch.float32)"
   ]
  },
  {
   "cell_type": "code",
   "execution_count": 3,
   "metadata": {},
   "outputs": [],
   "source": [
    "A = MatRead('Data/Material_A.mat')\n",
    "stress_A = A.get_stress()\n",
    "strain_A = A.get_strain()\n",
    "\n",
    "B = MatRead('Data/Material_B.mat')\n",
    "stress_B = B.get_stress()\n",
    "strain_B = B.get_strain()\n",
    "\n",
    "C = MatRead('Data/Material_C.mat')\n",
    "stress_C = C.get_stress()\n",
    "strain_C = C.get_strain()"
   ]
  },
  {
   "cell_type": "code",
   "execution_count": 4,
   "metadata": {},
   "outputs": [
    {
     "name": "stdout",
     "output_type": "stream",
     "text": [
      "torch.Size([1100, 50, 6])\n",
      "torch.Size([1100, 50, 6])\n",
      "torch.Size([1100, 50, 1])\n",
      "torch.Size([1100, 50, 6])\n",
      "torch.Size([1100, 50, 6])\n",
      "torch.Size([1100, 50, 1])\n"
     ]
    }
   ],
   "source": [
    "# shape is (n_samples, n_step, n_dir)\n",
    "\n",
    "# n_samples = number of samples\n",
    "# n_dir = directiona of measurements\n",
    "# n_step = step in the loading path\n",
    "\n",
    "print(stress_A.shape)\n",
    "print(stress_B.shape)\n",
    "print(stress_C.shape)\n",
    "\n",
    "print(strain_A.shape)\n",
    "print(strain_B.shape)\n",
    "print(strain_C.shape)\n",
    "\n",
    "# Some entry of Material A is empty\n",
    "# Which means no strain in the perp direction\n",
    "\n",
    "# Material C is a case where the dataset only includes 1D uni-axial deformation data "
   ]
  },
  {
   "cell_type": "code",
   "execution_count": 5,
   "metadata": {},
   "outputs": [],
   "source": [
    "# Lets start with Material A\n",
    "stress = stress_A\n",
    "strain = strain_A"
   ]
  },
  {
   "cell_type": "code",
   "execution_count": 6,
   "metadata": {},
   "outputs": [
    {
     "name": "stdout",
     "output_type": "stream",
     "text": [
      "825 275\n",
      "torch.Size([825, 50, 6])\n",
      "torch.Size([275, 50, 6])\n",
      "torch.Size([825, 50, 6])\n",
      "torch.Size([275, 50, 6])\n"
     ]
    }
   ],
   "source": [
    "# Split data into train and test\n",
    "# Use 75% data for training\n",
    "# Use 25% data for testing\n",
    "\n",
    "num_samples, num_steps, num_dir = stress.shape\n",
    "\n",
    "ntrain = int(np.round(num_samples * 0.75))\n",
    "ntest =  num_samples - ntrain\n",
    "\n",
    "print(ntrain, ntest)\n",
    "\n",
    "train_strain = strain[:ntrain, :, :]\n",
    "train_stress = stress[:ntrain, :, :]\n",
    "test_strain = strain[:ntest, :, :] \n",
    "test_stress = strain[:ntest, :, :]\n",
    "\n",
    "print(train_strain.shape)\n",
    "print(test_strain.shape)\n",
    "print(train_stress.shape)\n",
    "print(test_stress.shape)"
   ]
  },
  {
   "cell_type": "code",
   "execution_count": null,
   "metadata": {},
   "outputs": [],
   "source": [
    "### Feature Scaling (Normalisation)\n",
    "\n",
    "# IS THIS CORRECT?\n",
    "\n",
    "class DataNormalizer(object):\n",
    "    def __init__(self, data, epsilon=1e-8):\n",
    "        self.data = data\n",
    "        self.epsilon = epsilon\n",
    "\n",
    "    def minMax(self):\n",
    "        min_vals = self.data.min(dim=0, keepdim=True).values.min(dim=1, keepdim=True).values\n",
    "        max_vals = self.data.max(dim=0, keepdim=True).values.max(dim=1, keepdim=True).values\n",
    "        range_vals = max_vals - min_vals \n",
    "        return (self.data - min_vals) / range_vals + self.epsilon\n",
    "\n",
    "    def standardisation():\n",
    "        pass\n"
   ]
  },
  {
   "cell_type": "code",
   "execution_count": 41,
   "metadata": {},
   "outputs": [
    {
     "name": "stdout",
     "output_type": "stream",
     "text": [
      "torch.Size([825, 50, 6])\n",
      "torch.Size([825, 50, 6])\n",
      "torch.Size([275, 50, 6])\n",
      "torch.Size([275, 50, 6])\n"
     ]
    }
   ],
   "source": [
    "# Normalize your data\n",
    "strain_normalised_data = DataNormalizer(strain).minMax()\n",
    "train_strain_encode =  strain_normalised_data[:ntrain, :, :]\n",
    "test_strain_encode  = strain_normalised_data[:ntest, :, :]\n",
    "\n",
    "stress_normalised_data  =  DataNormalizer(stress).minMax()\n",
    "train_stress_encode = stress_normalised_data[:ntrain, :, :]\n",
    "test_stress_encode  = stress_normalised_data[:ntest, :, :]\n",
    "\n",
    "print(train_strain_encode.shape)\n",
    "print(train_stress_encode.shape)\n",
    "print(test_strain_encode.shape)\n",
    "print(test_stress_encode.shape)"
   ]
  }
 ],
 "metadata": {
  "kernelspec": {
   "display_name": "Python 3",
   "language": "python",
   "name": "python3"
  },
  "language_info": {
   "codemirror_mode": {
    "name": "ipython",
    "version": 3
   },
   "file_extension": ".py",
   "mimetype": "text/x-python",
   "name": "python",
   "nbconvert_exporter": "python",
   "pygments_lexer": "ipython3",
   "version": "3.10.4"
  }
 },
 "nbformat": 4,
 "nbformat_minor": 2
}
